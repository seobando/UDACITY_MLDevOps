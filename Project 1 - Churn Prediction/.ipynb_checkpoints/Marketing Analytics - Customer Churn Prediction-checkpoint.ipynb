{
 "cells": [
  {
   "cell_type": "markdown",
   "id": "960c7f94-fe8c-4e98-81c0-4116c701839a",
   "metadata": {},
   "source": [
    "## Libraries"
   ]
  },
  {
   "cell_type": "code",
   "execution_count": 1,
   "id": "bd99e906-3b03-4baf-b56d-d2a17f5a23f6",
   "metadata": {},
   "outputs": [],
   "source": [
    "# Data Manipulations\n",
    "import pandas as pd\n",
    "import numpy as np\n",
    "from random import randint"
   ]
  },
  {
   "cell_type": "code",
   "execution_count": 2,
   "id": "d0609aa3-88a9-4cfa-8121-f619057ecfaf",
   "metadata": {},
   "outputs": [],
   "source": [
    "# Data visualization\n",
    "import matplotlib.pyplot as plt\n",
    "import seaborn as sns"
   ]
  },
  {
   "cell_type": "code",
   "execution_count": 3,
   "id": "144d0a6d-725c-48da-81a7-7af38df073c1",
   "metadata": {},
   "outputs": [],
   "source": [
    "# Data Processing\n",
    "from sklearn.preprocessing import LabelEncoder,StandardScaler"
   ]
  },
  {
   "cell_type": "code",
   "execution_count": 4,
   "id": "a85dadab-24e6-46b6-ba9b-e6137aae6515",
   "metadata": {},
   "outputs": [],
   "source": [
    "# Machine Learning models\n",
    "from sklearn.svm import SVC\n",
    "from sklearn.linear_model import LogisticRegression\n",
    "from sklearn.tree import DecisionTreeClassifier\n",
    "from sklearn.ensemble import RandomForestClassifier"
   ]
  },
  {
   "cell_type": "code",
   "execution_count": 5,
   "id": "a55076aa-cec8-4c73-b533-a2d02ce7311d",
   "metadata": {},
   "outputs": [],
   "source": [
    "# Dataset spliting \n",
    "from sklearn.model_selection import train_test_split"
   ]
  },
  {
   "cell_type": "code",
   "execution_count": 6,
   "id": "b2936100-66d8-45e7-8fef-9a931e4f2558",
   "metadata": {},
   "outputs": [],
   "source": [
    "# Model evaluation and metrics\n",
    "from sklearn.metrics import confusion_matrix,precision_score, recall_score,roc_curve,roc_auc_score,f1_score"
   ]
  },
  {
   "cell_type": "code",
   "execution_count": 7,
   "id": "40336034-b8cd-4393-8473-cb85c56ccb5c",
   "metadata": {},
   "outputs": [],
   "source": [
    "# Model Tunning\n",
    "from sklearn.model_selection import GridSearchCV, RandomizedSearchCV"
   ]
  },
  {
   "cell_type": "markdown",
   "id": "25b10bc7-ef9d-408c-805e-ce4458c4e25b",
   "metadata": {},
   "source": [
    "## Load the Data"
   ]
  },
  {
   "cell_type": "code",
   "execution_count": 8,
   "id": "b24d8e6e-62e3-4fa1-9ccb-9f79658aa650",
   "metadata": {},
   "outputs": [],
   "source": [
    "telco = pd.read_csv(\"data/telco_data.csv\")"
   ]
  },
  {
   "cell_type": "markdown",
   "id": "df7a57cf-e18e-485a-9371-ceb8e183391c",
   "metadata": {},
   "source": [
    "## Exploratory Data Analysis"
   ]
  },
  {
   "cell_type": "code",
   "execution_count": 9,
   "id": "43b0ad8d-6697-4cb4-8867-316972e1c8eb",
   "metadata": {},
   "outputs": [
    {
     "name": "stdout",
     "output_type": "stream",
     "text": [
      "<class 'pandas.core.frame.DataFrame'>\n",
      "RangeIndex: 3333 entries, 0 to 3332\n",
      "Data columns (total 21 columns):\n",
      " #   Column          Non-Null Count  Dtype  \n",
      "---  ------          --------------  -----  \n",
      " 0   Account_Length  3333 non-null   int64  \n",
      " 1   Vmail_Message   3333 non-null   int64  \n",
      " 2   Day_Mins        3333 non-null   float64\n",
      " 3   Eve_Mins        3333 non-null   float64\n",
      " 4   Night_Mins      3333 non-null   float64\n",
      " 5   Intl_Mins       3333 non-null   float64\n",
      " 6   CustServ_Calls  3333 non-null   int64  \n",
      " 7   Churn           3333 non-null   object \n",
      " 8   Intl_Plan       3333 non-null   object \n",
      " 9   Vmail_Plan      3333 non-null   object \n",
      " 10  Day_Calls       3333 non-null   int64  \n",
      " 11  Day_Charge      3333 non-null   float64\n",
      " 12  Eve_Calls       3333 non-null   int64  \n",
      " 13  Eve_Charge      3333 non-null   float64\n",
      " 14  Night_Calls     3333 non-null   int64  \n",
      " 15  Night_Charge    3333 non-null   float64\n",
      " 16  Intl_Calls      3333 non-null   int64  \n",
      " 17  Intl_Charge     3333 non-null   float64\n",
      " 18  State           3333 non-null   object \n",
      " 19  Area_Code       3333 non-null   int64  \n",
      " 20  Phone           3333 non-null   object \n",
      "dtypes: float64(8), int64(8), object(5)\n",
      "memory usage: 546.9+ KB\n"
     ]
    }
   ],
   "source": [
    "telco.info()"
   ]
  },
  {
   "cell_type": "code",
   "execution_count": 10,
   "id": "456a63ef-22fa-45fc-8639-c432f1c9925b",
   "metadata": {},
   "outputs": [
    {
     "name": "stdout",
     "output_type": "stream",
     "text": [
      "       Account_Length  Vmail_Message    Day_Mins    Eve_Mins  Night_Mins  \\\n",
      "Churn                                                                      \n",
      "no         100.793684       8.604561  175.175754  199.043298  200.133193   \n",
      "yes        102.664596       5.115942  206.914079  212.410145  205.231677   \n",
      "\n",
      "       Intl_Mins  CustServ_Calls   Day_Calls  Day_Charge   Eve_Calls  \\\n",
      "Churn                                                                  \n",
      "no     10.158877        1.449825  100.283158   29.780421  100.038596   \n",
      "yes    10.700000        2.229814  101.335404   35.175921  100.561077   \n",
      "\n",
      "       Eve_Charge  Night_Calls  Night_Charge  Intl_Calls  Intl_Charge  \\\n",
      "Churn                                                                   \n",
      "no      16.918909   100.058246      9.006074    4.532982     2.743404   \n",
      "yes     18.054969   100.399586      9.235528    4.163561     2.889545   \n",
      "\n",
      "        Area_Code  \n",
      "Churn              \n",
      "no     437.074737  \n",
      "yes    437.817805  \n"
     ]
    }
   ],
   "source": [
    "# Group telco by 'Churn' and compute the mean\n",
    "print(telco.groupby(['Churn']).mean())"
   ]
  },
  {
   "cell_type": "code",
   "execution_count": 11,
   "id": "07994c50-b5dd-4793-9e9d-4f27254e4281",
   "metadata": {},
   "outputs": [
    {
     "name": "stdout",
     "output_type": "stream",
     "text": [
      "       Account_Length  Vmail_Message   Day_Mins   Eve_Mins  Night_Mins  \\\n",
      "Churn                                                                    \n",
      "no           39.88235      13.913125  50.181655  50.292175   51.105032   \n",
      "yes          39.46782      11.860138  68.997792  51.728910   47.132825   \n",
      "\n",
      "       Intl_Mins  CustServ_Calls  Day_Calls  Day_Charge  Eve_Calls  \\\n",
      "Churn                                                                \n",
      "no      2.784489        1.163883  19.801157    8.530835  19.958414   \n",
      "yes     2.793190        1.853275  21.582307   11.729710  19.724711   \n",
      "\n",
      "       Eve_Charge  Night_Calls  Night_Charge  Intl_Calls  Intl_Charge  \\\n",
      "Churn                                                                   \n",
      "no       4.274863    19.506246      2.299768    2.441984     0.751784   \n",
      "yes      4.396762    19.950659      2.121081    2.551575     0.754152   \n",
      "\n",
      "       Area_Code  \n",
      "Churn             \n",
      "no     42.306156  \n",
      "yes    42.792270  \n"
     ]
    }
   ],
   "source": [
    "# Adapt your code to compute the standard deviation\n",
    "print(telco.groupby(['Churn']).std())"
   ]
  },
  {
   "cell_type": "code",
   "execution_count": 12,
   "id": "f63c29ba-5921-4bc7-919b-b354da5a229a",
   "metadata": {},
   "outputs": [
    {
     "name": "stdout",
     "output_type": "stream",
     "text": [
      "State  Churn\n",
      "AK     no       49\n",
      "       yes       3\n",
      "AL     no       72\n",
      "       yes       8\n",
      "AR     no       44\n",
      "                ..\n",
      "WI     yes       7\n",
      "WV     no       96\n",
      "       yes      10\n",
      "WY     no       68\n",
      "       yes       9\n",
      "Name: Churn, Length: 102, dtype: int64\n"
     ]
    }
   ],
   "source": [
    "# Count the number of churners and non-churners by State\n",
    "print(telco.groupby('State')['Churn'].value_counts())"
   ]
  },
  {
   "cell_type": "code",
   "execution_count": 13,
   "id": "80bac8f0-d064-480f-8409-56c51ce4f702",
   "metadata": {},
   "outputs": [
    {
     "data": {
      "image/png": "[encoded data removed]",
      "text/plain": [
       "<Figure size 432x288 with 1 Axes>"
      ]
     },
     "metadata": {
      "needs_background": "light"
     },
     "output_type": "display_data"
    }
   ],
   "source": [
    "# Variables Distribution\n",
    "sns.histplot(telco['Account_Length'],kde=True, stat=\"density\", linewidth=0)\n",
    "plt.show()"
   ]
  },
  {
   "cell_type": "code",
   "execution_count": 14,
   "id": "887bb27f-db70-48e6-a726-15212a52d25a",
   "metadata": {},
   "outputs": [
    {
     "data": {
      "image/png": "[encoded data removed]",
      "text/plain": [
       "<Figure size 432x288 with 1 Axes>"
      ]
     },
     "metadata": {
      "needs_background": "light"
     },
     "output_type": "display_data"
    }
   ],
   "source": [
    "# Difference in account lenght\n",
    "sns.boxplot(x = 'Churn', y = 'Account_Length', data = telco)\n",
    "plt.show()"
   ]
  },
  {
   "cell_type": "code",
   "execution_count": 15,
   "id": "7bc0c0f5-9411-4b2a-b58c-1823181871da",
   "metadata": {},
   "outputs": [
    {
     "data": {
      "image/png": "[encoded data removed]",
      "text/plain": [
       "<Figure size 432x288 with 1 Axes>"
      ]
     },
     "metadata": {
      "needs_background": "light"
     },
     "output_type": "display_data"
    }
   ],
   "source": [
    "# Difference in account lengh - Adding a third variable\n",
    "sns.boxplot(x = 'Churn', y = 'Account_Length', data = telco, hue = 'Intl_Plan')\n",
    "plt.show()"
   ]
  },
  {
   "cell_type": "code",
   "execution_count": 16,
   "id": "d519d0dc-0a9f-4928-94dc-cc38e40a1a1c",
   "metadata": {},
   "outputs": [
    {
     "data": {
      "image/png": "[encoded data removed]",
      "text/plain": [
       "<Figure size 432x288 with 1 Axes>"
      ]
     },
     "metadata": {
      "needs_background": "light"
     },
     "output_type": "display_data"
    }
   ],
   "source": [
    "# Difference in account lengh - Adding a third variable - Remove outliers\n",
    "sns.boxplot(x = 'Churn', y = 'Account_Length', data = telco, sym = \"\" ,hue = 'Intl_Plan')\n",
    "plt.show()"
   ]
  },
  {
   "cell_type": "markdown",
   "id": "2a9e98b9-a44c-4581-9700-9e1b7b2b419e",
   "metadata": {},
   "source": [
    "## Data Preprocessing"
   ]
  },
  {
   "cell_type": "code",
   "execution_count": 17,
   "id": "372803a2-5d02-4f57-bba4-51559597c266",
   "metadata": {},
   "outputs": [
    {
     "data": {
      "text/plain": [
       "Account_Length      int64\n",
       "Vmail_Message       int64\n",
       "Day_Mins          float64\n",
       "Eve_Mins          float64\n",
       "Night_Mins        float64\n",
       "Intl_Mins         float64\n",
       "CustServ_Calls      int64\n",
       "Churn              object\n",
       "Intl_Plan          object\n",
       "Vmail_Plan         object\n",
       "Day_Calls           int64\n",
       "Day_Charge        float64\n",
       "Eve_Calls           int64\n",
       "Eve_Charge        float64\n",
       "Night_Calls         int64\n",
       "Night_Charge      float64\n",
       "Intl_Calls          int64\n",
       "Intl_Charge       float64\n",
       "State              object\n",
       "Area_Code           int64\n",
       "Phone              object\n",
       "dtype: object"
      ]
     },
     "execution_count": 17,
     "metadata": {},
     "output_type": "execute_result"
    }
   ],
   "source": [
    "## Data Types\n",
    "telco.dtypes"
   ]
  },
  {
   "cell_type": "code",
   "execution_count": 18,
   "id": "59d3f111-e771-4d81-a79d-beb47d729d71",
   "metadata": {},
   "outputs": [],
   "source": [
    "# Binary Variables\n",
    "binary_variables = ['Churn','Intl_Plan','Vmail_Plan']\n",
    "# Multicategorical Variables \n",
    "multicategorical_variables = ['State']\n",
    "# Unbalance variables\n",
    "unbalance_variables = [\"Intl_Calls\", \"Night_Mins\"]"
   ]
  },
  {
   "cell_type": "code",
   "execution_count": 19,
   "id": "27b11424-9074-4263-aa6b-0baf96c40cd0",
   "metadata": {},
   "outputs": [],
   "source": [
    "# Binary Encoding\n",
    "telco[binary_variables] = telco[binary_variables].replace({'no':0,'yes':1})"
   ]
  },
  {
   "cell_type": "code",
   "execution_count": 20,
   "id": "c42b2997-df63-4b26-975d-a1fb6feecf9a",
   "metadata": {},
   "outputs": [
    {
     "data": {
      "text/html": [
       "<div>\n",
       "<style scoped>\n",
       "    .dataframe tbody tr th:only-of-type {\n",
       "        vertical-align: middle;\n",
       "    }\n",
       "\n",
       "    .dataframe tbody tr th {\n",
       "        vertical-align: top;\n",
       "    }\n",
       "\n",
       "    .dataframe thead th {\n",
       "        text-align: right;\n",
       "    }\n",
       "</style>\n",
       "<table border=\"1\" class=\"dataframe\">\n",
       "  <thead>\n",
       "    <tr style=\"text-align: right;\">\n",
       "      <th></th>\n",
       "      <th>Account_Length</th>\n",
       "      <th>Vmail_Message</th>\n",
       "      <th>Day_Mins</th>\n",
       "      <th>Eve_Mins</th>\n",
       "      <th>Night_Mins</th>\n",
       "      <th>Intl_Mins</th>\n",
       "      <th>CustServ_Calls</th>\n",
       "      <th>Churn</th>\n",
       "      <th>Intl_Plan</th>\n",
       "      <th>Vmail_Plan</th>\n",
       "      <th>...</th>\n",
       "      <th>SD</th>\n",
       "      <th>TN</th>\n",
       "      <th>TX</th>\n",
       "      <th>UT</th>\n",
       "      <th>VA</th>\n",
       "      <th>VT</th>\n",
       "      <th>WA</th>\n",
       "      <th>WI</th>\n",
       "      <th>WV</th>\n",
       "      <th>WY</th>\n",
       "    </tr>\n",
       "  </thead>\n",
       "  <tbody>\n",
       "    <tr>\n",
       "      <th>0</th>\n",
       "      <td>128</td>\n",
       "      <td>25</td>\n",
       "      <td>265.1</td>\n",
       "      <td>197.4</td>\n",
       "      <td>244.7</td>\n",
       "      <td>10.0</td>\n",
       "      <td>1</td>\n",
       "      <td>0</td>\n",
       "      <td>0</td>\n",
       "      <td>1</td>\n",
       "      <td>...</td>\n",
       "      <td>0</td>\n",
       "      <td>0</td>\n",
       "      <td>0</td>\n",
       "      <td>0</td>\n",
       "      <td>0</td>\n",
       "      <td>0</td>\n",
       "      <td>0</td>\n",
       "      <td>0</td>\n",
       "      <td>0</td>\n",
       "      <td>0</td>\n",
       "    </tr>\n",
       "    <tr>\n",
       "      <th>1</th>\n",
       "      <td>107</td>\n",
       "      <td>26</td>\n",
       "      <td>161.6</td>\n",
       "      <td>195.5</td>\n",
       "      <td>254.4</td>\n",
       "      <td>13.7</td>\n",
       "      <td>1</td>\n",
       "      <td>0</td>\n",
       "      <td>0</td>\n",
       "      <td>1</td>\n",
       "      <td>...</td>\n",
       "      <td>0</td>\n",
       "      <td>0</td>\n",
       "      <td>0</td>\n",
       "      <td>0</td>\n",
       "      <td>0</td>\n",
       "      <td>0</td>\n",
       "      <td>0</td>\n",
       "      <td>0</td>\n",
       "      <td>0</td>\n",
       "      <td>0</td>\n",
       "    </tr>\n",
       "    <tr>\n",
       "      <th>2</th>\n",
       "      <td>137</td>\n",
       "      <td>0</td>\n",
       "      <td>243.4</td>\n",
       "      <td>121.2</td>\n",
       "      <td>162.6</td>\n",
       "      <td>12.2</td>\n",
       "      <td>0</td>\n",
       "      <td>0</td>\n",
       "      <td>0</td>\n",
       "      <td>0</td>\n",
       "      <td>...</td>\n",
       "      <td>0</td>\n",
       "      <td>0</td>\n",
       "      <td>0</td>\n",
       "      <td>0</td>\n",
       "      <td>0</td>\n",
       "      <td>0</td>\n",
       "      <td>0</td>\n",
       "      <td>0</td>\n",
       "      <td>0</td>\n",
       "      <td>0</td>\n",
       "    </tr>\n",
       "    <tr>\n",
       "      <th>3</th>\n",
       "      <td>84</td>\n",
       "      <td>0</td>\n",
       "      <td>299.4</td>\n",
       "      <td>61.9</td>\n",
       "      <td>196.9</td>\n",
       "      <td>6.6</td>\n",
       "      <td>2</td>\n",
       "      <td>0</td>\n",
       "      <td>1</td>\n",
       "      <td>0</td>\n",
       "      <td>...</td>\n",
       "      <td>0</td>\n",
       "      <td>0</td>\n",
       "      <td>0</td>\n",
       "      <td>0</td>\n",
       "      <td>0</td>\n",
       "      <td>0</td>\n",
       "      <td>0</td>\n",
       "      <td>0</td>\n",
       "      <td>0</td>\n",
       "      <td>0</td>\n",
       "    </tr>\n",
       "    <tr>\n",
       "      <th>4</th>\n",
       "      <td>75</td>\n",
       "      <td>0</td>\n",
       "      <td>166.7</td>\n",
       "      <td>148.3</td>\n",
       "      <td>186.9</td>\n",
       "      <td>10.1</td>\n",
       "      <td>3</td>\n",
       "      <td>0</td>\n",
       "      <td>1</td>\n",
       "      <td>0</td>\n",
       "      <td>...</td>\n",
       "      <td>0</td>\n",
       "      <td>0</td>\n",
       "      <td>0</td>\n",
       "      <td>0</td>\n",
       "      <td>0</td>\n",
       "      <td>0</td>\n",
       "      <td>0</td>\n",
       "      <td>0</td>\n",
       "      <td>0</td>\n",
       "      <td>0</td>\n",
       "    </tr>\n",
       "  </tbody>\n",
       "</table>\n",
       "<p>5 rows × 71 columns</p>\n",
       "</div>"
      ],
      "text/plain": [
       "   Account_Length  Vmail_Message  Day_Mins  Eve_Mins  Night_Mins  Intl_Mins  \\\n",
       "0             128             25     265.1     197.4       244.7       10.0   \n",
       "1             107             26     161.6     195.5       254.4       13.7   \n",
       "2             137              0     243.4     121.2       162.6       12.2   \n",
       "3              84              0     299.4      61.9       196.9        6.6   \n",
       "4              75              0     166.7     148.3       186.9       10.1   \n",
       "\n",
       "   CustServ_Calls  Churn  Intl_Plan  Vmail_Plan  ...  SD  TN  TX  UT  VA  VT  \\\n",
       "0               1      0          0           1  ...   0   0   0   0   0   0   \n",
       "1               1      0          0           1  ...   0   0   0   0   0   0   \n",
       "2               0      0          0           0  ...   0   0   0   0   0   0   \n",
       "3               2      0          1           0  ...   0   0   0   0   0   0   \n",
       "4               3      0          1           0  ...   0   0   0   0   0   0   \n",
       "\n",
       "   WA  WI  WV WY  \n",
       "0   0   0   0  0  \n",
       "1   0   0   0  0  \n",
       "2   0   0   0  0  \n",
       "3   0   0   0  0  \n",
       "4   0   0   0  0  \n",
       "\n",
       "[5 rows x 71 columns]"
      ]
     },
     "execution_count": 20,
     "metadata": {},
     "output_type": "execute_result"
    }
   ],
   "source": [
    "## Multicategorical Encoding\n",
    "for multicategorical_variable in multicategorical_variables:\n",
    "\n",
    "    ## One hot encoding\n",
    "    # Perform one hot encoding\n",
    "    one_hot = pd.get_dummies(telco[multicategorical_variable])\n",
    "    # Drop column as it is now encoded\n",
    "    telco = telco.drop(multicategorical_variable,axis = 1)\n",
    "    # Join the encoded df\n",
    "    telco= telco.join(one_hot)\n",
    "\n",
    "# Print the head\n",
    "telco.head() "
   ]
  },
  {
   "cell_type": "code",
   "execution_count": 21,
   "id": "e2b610f5-7949-48e8-9f29-5faf482c68a3",
   "metadata": {},
   "outputs": [],
   "source": [
    "## Standarizar features"
   ]
  },
  {
   "cell_type": "code",
   "execution_count": 22,
   "id": "bcc52783-6133-4f52-be76-c88f8be55a41",
   "metadata": {},
   "outputs": [
    {
     "data": {
      "text/html": [
       "<div>\n",
       "<style scoped>\n",
       "    .dataframe tbody tr th:only-of-type {\n",
       "        vertical-align: middle;\n",
       "    }\n",
       "\n",
       "    .dataframe tbody tr th {\n",
       "        vertical-align: top;\n",
       "    }\n",
       "\n",
       "    .dataframe thead th {\n",
       "        text-align: right;\n",
       "    }\n",
       "</style>\n",
       "<table border=\"1\" class=\"dataframe\">\n",
       "  <thead>\n",
       "    <tr style=\"text-align: right;\">\n",
       "      <th></th>\n",
       "      <th>Intl_Calls</th>\n",
       "      <th>Night_Mins</th>\n",
       "    </tr>\n",
       "  </thead>\n",
       "  <tbody>\n",
       "    <tr>\n",
       "      <th>count</th>\n",
       "      <td>3.333000e+03</td>\n",
       "      <td>3.333000e+03</td>\n",
       "    </tr>\n",
       "    <tr>\n",
       "      <th>mean</th>\n",
       "      <td>-1.264615e-16</td>\n",
       "      <td>6.602046e-17</td>\n",
       "    </tr>\n",
       "    <tr>\n",
       "      <th>std</th>\n",
       "      <td>1.000150e+00</td>\n",
       "      <td>1.000150e+00</td>\n",
       "    </tr>\n",
       "    <tr>\n",
       "      <th>min</th>\n",
       "      <td>-1.820289e+00</td>\n",
       "      <td>-3.513648e+00</td>\n",
       "    </tr>\n",
       "    <tr>\n",
       "      <th>25%</th>\n",
       "      <td>-6.011951e-01</td>\n",
       "      <td>-6.698545e-01</td>\n",
       "    </tr>\n",
       "    <tr>\n",
       "      <th>50%</th>\n",
       "      <td>-1.948306e-01</td>\n",
       "      <td>6.485803e-03</td>\n",
       "    </tr>\n",
       "    <tr>\n",
       "      <th>75%</th>\n",
       "      <td>6.178983e-01</td>\n",
       "      <td>6.808485e-01</td>\n",
       "    </tr>\n",
       "    <tr>\n",
       "      <th>max</th>\n",
       "      <td>6.307001e+00</td>\n",
       "      <td>3.839081e+00</td>\n",
       "    </tr>\n",
       "  </tbody>\n",
       "</table>\n",
       "</div>"
      ],
      "text/plain": [
       "         Intl_Calls    Night_Mins\n",
       "count  3.333000e+03  3.333000e+03\n",
       "mean  -1.264615e-16  6.602046e-17\n",
       "std    1.000150e+00  1.000150e+00\n",
       "min   -1.820289e+00 -3.513648e+00\n",
       "25%   -6.011951e-01 -6.698545e-01\n",
       "50%   -1.948306e-01  6.485803e-03\n",
       "75%    6.178983e-01  6.808485e-01\n",
       "max    6.307001e+00  3.839081e+00"
      ]
     },
     "execution_count": 22,
     "metadata": {},
     "output_type": "execute_result"
    }
   ],
   "source": [
    "# Feature scaling\n",
    "# Scale telco using StandardScaler\n",
    "telco_scaled = StandardScaler().fit_transform(telco[unbalance_variables])\n",
    "# Scale dataframe\n",
    "telco_scaled_df = pd.DataFrame(telco_scaled,columns = unbalance_variables)\n",
    "# Drop column as it is now encoded\n",
    "telco = telco.drop(unbalance_variables,axis = 1)\n",
    "# Join the scale df\n",
    "telco= telco.join(telco_scaled_df)\n",
    "# Print summary statistics\n",
    "telco[unbalance_variables].describe()"
   ]
  },
  {
   "cell_type": "markdown",
   "id": "3f1a510d-c545-4394-8e5b-0d65a4bc9e71",
   "metadata": {},
   "source": [
    "## Features selection and engineering"
   ]
  },
  {
   "cell_type": "code",
   "execution_count": 23,
   "id": "054568be-ee8b-4a71-96a1-f64033f020f9",
   "metadata": {},
   "outputs": [
    {
     "data": {
      "text/html": [
       "<div>\n",
       "<style scoped>\n",
       "    .dataframe tbody tr th:only-of-type {\n",
       "        vertical-align: middle;\n",
       "    }\n",
       "\n",
       "    .dataframe tbody tr th {\n",
       "        vertical-align: top;\n",
       "    }\n",
       "\n",
       "    .dataframe thead th {\n",
       "        text-align: right;\n",
       "    }\n",
       "</style>\n",
       "<table border=\"1\" class=\"dataframe\">\n",
       "  <thead>\n",
       "    <tr style=\"text-align: right;\">\n",
       "      <th></th>\n",
       "      <th>Account_Length</th>\n",
       "      <th>Vmail_Message</th>\n",
       "      <th>Day_Mins</th>\n",
       "      <th>Eve_Mins</th>\n",
       "      <th>Intl_Mins</th>\n",
       "      <th>CustServ_Calls</th>\n",
       "      <th>Churn</th>\n",
       "      <th>Intl_Plan</th>\n",
       "      <th>Vmail_Plan</th>\n",
       "      <th>Day_Calls</th>\n",
       "      <th>...</th>\n",
       "      <th>TX</th>\n",
       "      <th>UT</th>\n",
       "      <th>VA</th>\n",
       "      <th>VT</th>\n",
       "      <th>WA</th>\n",
       "      <th>WI</th>\n",
       "      <th>WV</th>\n",
       "      <th>WY</th>\n",
       "      <th>Intl_Calls</th>\n",
       "      <th>Night_Mins</th>\n",
       "    </tr>\n",
       "  </thead>\n",
       "  <tbody>\n",
       "    <tr>\n",
       "      <th>Account_Length</th>\n",
       "      <td>1.000000</td>\n",
       "      <td>-0.004628</td>\n",
       "      <td>0.006216</td>\n",
       "      <td>-0.006757</td>\n",
       "      <td>0.009514</td>\n",
       "      <td>-0.003796</td>\n",
       "      <td>0.016541</td>\n",
       "      <td>0.024735</td>\n",
       "      <td>0.002918</td>\n",
       "      <td>0.038470</td>\n",
       "      <td>...</td>\n",
       "      <td>-0.013148</td>\n",
       "      <td>-0.000397</td>\n",
       "      <td>0.018810</td>\n",
       "      <td>0.012627</td>\n",
       "      <td>0.003555</td>\n",
       "      <td>-0.008476</td>\n",
       "      <td>-0.025631</td>\n",
       "      <td>0.018058</td>\n",
       "      <td>0.020661</td>\n",
       "      <td>-0.008955</td>\n",
       "    </tr>\n",
       "    <tr>\n",
       "      <th>Vmail_Message</th>\n",
       "      <td>-0.004628</td>\n",
       "      <td>1.000000</td>\n",
       "      <td>0.000778</td>\n",
       "      <td>0.017562</td>\n",
       "      <td>0.002856</td>\n",
       "      <td>-0.013263</td>\n",
       "      <td>-0.089728</td>\n",
       "      <td>0.008745</td>\n",
       "      <td>0.956927</td>\n",
       "      <td>-0.009548</td>\n",
       "      <td>...</td>\n",
       "      <td>-0.017963</td>\n",
       "      <td>0.004353</td>\n",
       "      <td>-0.011911</td>\n",
       "      <td>-0.016959</td>\n",
       "      <td>-0.036747</td>\n",
       "      <td>0.002070</td>\n",
       "      <td>0.008308</td>\n",
       "      <td>-0.017748</td>\n",
       "      <td>0.013957</td>\n",
       "      <td>0.007681</td>\n",
       "    </tr>\n",
       "    <tr>\n",
       "      <th>Day_Mins</th>\n",
       "      <td>0.006216</td>\n",
       "      <td>0.000778</td>\n",
       "      <td>1.000000</td>\n",
       "      <td>0.007043</td>\n",
       "      <td>-0.010155</td>\n",
       "      <td>-0.013423</td>\n",
       "      <td>0.205151</td>\n",
       "      <td>0.049396</td>\n",
       "      <td>-0.001684</td>\n",
       "      <td>0.006750</td>\n",
       "      <td>...</td>\n",
       "      <td>0.004752</td>\n",
       "      <td>0.010353</td>\n",
       "      <td>-0.007147</td>\n",
       "      <td>0.006200</td>\n",
       "      <td>-0.002695</td>\n",
       "      <td>-0.001832</td>\n",
       "      <td>-0.019383</td>\n",
       "      <td>0.001115</td>\n",
       "      <td>0.008033</td>\n",
       "      <td>0.004323</td>\n",
       "    </tr>\n",
       "    <tr>\n",
       "      <th>Eve_Mins</th>\n",
       "      <td>-0.006757</td>\n",
       "      <td>0.017562</td>\n",
       "      <td>0.007043</td>\n",
       "      <td>1.000000</td>\n",
       "      <td>-0.011035</td>\n",
       "      <td>-0.012985</td>\n",
       "      <td>0.092796</td>\n",
       "      <td>0.019100</td>\n",
       "      <td>0.021545</td>\n",
       "      <td>-0.021451</td>\n",
       "      <td>...</td>\n",
       "      <td>-0.003496</td>\n",
       "      <td>-0.016520</td>\n",
       "      <td>0.009816</td>\n",
       "      <td>0.012950</td>\n",
       "      <td>0.007933</td>\n",
       "      <td>-0.010750</td>\n",
       "      <td>-0.044919</td>\n",
       "      <td>0.014704</td>\n",
       "      <td>0.002541</td>\n",
       "      <td>-0.012584</td>\n",
       "    </tr>\n",
       "    <tr>\n",
       "      <th>Intl_Mins</th>\n",
       "      <td>0.009514</td>\n",
       "      <td>0.002856</td>\n",
       "      <td>-0.010155</td>\n",
       "      <td>-0.011035</td>\n",
       "      <td>1.000000</td>\n",
       "      <td>-0.009640</td>\n",
       "      <td>0.068239</td>\n",
       "      <td>0.045871</td>\n",
       "      <td>-0.001318</td>\n",
       "      <td>0.021565</td>\n",
       "      <td>...</td>\n",
       "      <td>0.017089</td>\n",
       "      <td>-0.000285</td>\n",
       "      <td>0.020339</td>\n",
       "      <td>-0.004569</td>\n",
       "      <td>-0.022806</td>\n",
       "      <td>-0.027308</td>\n",
       "      <td>-0.010997</td>\n",
       "      <td>0.008606</td>\n",
       "      <td>0.032304</td>\n",
       "      <td>-0.015207</td>\n",
       "    </tr>\n",
       "    <tr>\n",
       "      <th>...</th>\n",
       "      <td>...</td>\n",
       "      <td>...</td>\n",
       "      <td>...</td>\n",
       "      <td>...</td>\n",
       "      <td>...</td>\n",
       "      <td>...</td>\n",
       "      <td>...</td>\n",
       "      <td>...</td>\n",
       "      <td>...</td>\n",
       "      <td>...</td>\n",
       "      <td>...</td>\n",
       "      <td>...</td>\n",
       "      <td>...</td>\n",
       "      <td>...</td>\n",
       "      <td>...</td>\n",
       "      <td>...</td>\n",
       "      <td>...</td>\n",
       "      <td>...</td>\n",
       "      <td>...</td>\n",
       "      <td>...</td>\n",
       "      <td>...</td>\n",
       "    </tr>\n",
       "    <tr>\n",
       "      <th>WI</th>\n",
       "      <td>-0.008476</td>\n",
       "      <td>0.002070</td>\n",
       "      <td>-0.001832</td>\n",
       "      <td>-0.010750</td>\n",
       "      <td>-0.027308</td>\n",
       "      <td>-0.016451</td>\n",
       "      <td>-0.024262</td>\n",
       "      <td>0.002959</td>\n",
       "      <td>0.006313</td>\n",
       "      <td>-0.028977</td>\n",
       "      <td>...</td>\n",
       "      <td>-0.023002</td>\n",
       "      <td>-0.023002</td>\n",
       "      <td>-0.023805</td>\n",
       "      <td>-0.023165</td>\n",
       "      <td>-0.022002</td>\n",
       "      <td>1.000000</td>\n",
       "      <td>-0.028056</td>\n",
       "      <td>-0.023805</td>\n",
       "      <td>-0.022095</td>\n",
       "      <td>-0.005028</td>\n",
       "    </tr>\n",
       "    <tr>\n",
       "      <th>WV</th>\n",
       "      <td>-0.025631</td>\n",
       "      <td>0.008308</td>\n",
       "      <td>-0.019383</td>\n",
       "      <td>-0.044919</td>\n",
       "      <td>-0.010997</td>\n",
       "      <td>-0.008661</td>\n",
       "      <td>-0.026039</td>\n",
       "      <td>-0.018913</td>\n",
       "      <td>-0.001233</td>\n",
       "      <td>0.030234</td>\n",
       "      <td>...</td>\n",
       "      <td>-0.026930</td>\n",
       "      <td>-0.026930</td>\n",
       "      <td>-0.027871</td>\n",
       "      <td>-0.027121</td>\n",
       "      <td>-0.025760</td>\n",
       "      <td>-0.028056</td>\n",
       "      <td>1.000000</td>\n",
       "      <td>-0.027871</td>\n",
       "      <td>-0.004740</td>\n",
       "      <td>0.000658</td>\n",
       "    </tr>\n",
       "    <tr>\n",
       "      <th>WY</th>\n",
       "      <td>0.018058</td>\n",
       "      <td>-0.017748</td>\n",
       "      <td>0.001115</td>\n",
       "      <td>0.014704</td>\n",
       "      <td>0.008606</td>\n",
       "      <td>-0.014182</td>\n",
       "      <td>-0.012246</td>\n",
       "      <td>0.017134</td>\n",
       "      <td>-0.014735</td>\n",
       "      <td>0.013681</td>\n",
       "      <td>...</td>\n",
       "      <td>-0.022850</td>\n",
       "      <td>-0.022850</td>\n",
       "      <td>-0.023649</td>\n",
       "      <td>-0.023012</td>\n",
       "      <td>-0.021858</td>\n",
       "      <td>-0.023805</td>\n",
       "      <td>-0.027871</td>\n",
       "      <td>1.000000</td>\n",
       "      <td>0.030907</td>\n",
       "      <td>-0.005184</td>\n",
       "    </tr>\n",
       "    <tr>\n",
       "      <th>Intl_Calls</th>\n",
       "      <td>0.020661</td>\n",
       "      <td>0.013957</td>\n",
       "      <td>0.008033</td>\n",
       "      <td>0.002541</td>\n",
       "      <td>0.032304</td>\n",
       "      <td>-0.017561</td>\n",
       "      <td>-0.052844</td>\n",
       "      <td>0.017366</td>\n",
       "      <td>0.007618</td>\n",
       "      <td>0.004574</td>\n",
       "      <td>...</td>\n",
       "      <td>0.008789</td>\n",
       "      <td>0.008789</td>\n",
       "      <td>0.016298</td>\n",
       "      <td>0.007497</td>\n",
       "      <td>-0.001438</td>\n",
       "      <td>-0.022095</td>\n",
       "      <td>-0.004740</td>\n",
       "      <td>0.030907</td>\n",
       "      <td>1.000000</td>\n",
       "      <td>-0.012353</td>\n",
       "    </tr>\n",
       "    <tr>\n",
       "      <th>Night_Mins</th>\n",
       "      <td>-0.008955</td>\n",
       "      <td>0.007681</td>\n",
       "      <td>0.004323</td>\n",
       "      <td>-0.012584</td>\n",
       "      <td>-0.015207</td>\n",
       "      <td>-0.009288</td>\n",
       "      <td>0.035493</td>\n",
       "      <td>-0.028905</td>\n",
       "      <td>0.006079</td>\n",
       "      <td>0.022938</td>\n",
       "      <td>...</td>\n",
       "      <td>-0.016406</td>\n",
       "      <td>-0.030421</td>\n",
       "      <td>0.036773</td>\n",
       "      <td>0.018102</td>\n",
       "      <td>-0.002323</td>\n",
       "      <td>-0.005028</td>\n",
       "      <td>0.000658</td>\n",
       "      <td>-0.005184</td>\n",
       "      <td>-0.012353</td>\n",
       "      <td>1.000000</td>\n",
       "    </tr>\n",
       "  </tbody>\n",
       "</table>\n",
       "<p>70 rows × 70 columns</p>\n",
       "</div>"
      ],
      "text/plain": [
       "                Account_Length  Vmail_Message  Day_Mins  Eve_Mins  Intl_Mins  \\\n",
       "Account_Length        1.000000      -0.004628  0.006216 -0.006757   0.009514   \n",
       "Vmail_Message        -0.004628       1.000000  0.000778  0.017562   0.002856   \n",
       "Day_Mins              0.006216       0.000778  1.000000  0.007043  -0.010155   \n",
       "Eve_Mins             -0.006757       0.017562  0.007043  1.000000  -0.011035   \n",
       "Intl_Mins             0.009514       0.002856 -0.010155 -0.011035   1.000000   \n",
       "...                        ...            ...       ...       ...        ...   \n",
       "WI                   -0.008476       0.002070 -0.001832 -0.010750  -0.027308   \n",
       "WV                   -0.025631       0.008308 -0.019383 -0.044919  -0.010997   \n",
       "WY                    0.018058      -0.017748  0.001115  0.014704   0.008606   \n",
       "Intl_Calls            0.020661       0.013957  0.008033  0.002541   0.032304   \n",
       "Night_Mins           -0.008955       0.007681  0.004323 -0.012584  -0.015207   \n",
       "\n",
       "                CustServ_Calls     Churn  Intl_Plan  Vmail_Plan  Day_Calls  \\\n",
       "Account_Length       -0.003796  0.016541   0.024735    0.002918   0.038470   \n",
       "Vmail_Message        -0.013263 -0.089728   0.008745    0.956927  -0.009548   \n",
       "Day_Mins             -0.013423  0.205151   0.049396   -0.001684   0.006750   \n",
       "Eve_Mins             -0.012985  0.092796   0.019100    0.021545  -0.021451   \n",
       "Intl_Mins            -0.009640  0.068239   0.045871   -0.001318   0.021565   \n",
       "...                        ...       ...        ...         ...        ...   \n",
       "WI                   -0.016451 -0.024262   0.002959    0.006313  -0.028977   \n",
       "WV                   -0.008661 -0.026039  -0.018913   -0.001233   0.030234   \n",
       "WY                   -0.014182 -0.012246   0.017134   -0.014735   0.013681   \n",
       "Intl_Calls           -0.017561 -0.052844   0.017366    0.007618   0.004574   \n",
       "Night_Mins           -0.009288  0.035493  -0.028905    0.006079   0.022938   \n",
       "\n",
       "                ...        TX        UT        VA        VT        WA  \\\n",
       "Account_Length  ... -0.013148 -0.000397  0.018810  0.012627  0.003555   \n",
       "Vmail_Message   ... -0.017963  0.004353 -0.011911 -0.016959 -0.036747   \n",
       "Day_Mins        ...  0.004752  0.010353 -0.007147  0.006200 -0.002695   \n",
       "Eve_Mins        ... -0.003496 -0.016520  0.009816  0.012950  0.007933   \n",
       "Intl_Mins       ...  0.017089 -0.000285  0.020339 -0.004569 -0.022806   \n",
       "...             ...       ...       ...       ...       ...       ...   \n",
       "WI              ... -0.023002 -0.023002 -0.023805 -0.023165 -0.022002   \n",
       "WV              ... -0.026930 -0.026930 -0.027871 -0.027121 -0.025760   \n",
       "WY              ... -0.022850 -0.022850 -0.023649 -0.023012 -0.021858   \n",
       "Intl_Calls      ...  0.008789  0.008789  0.016298  0.007497 -0.001438   \n",
       "Night_Mins      ... -0.016406 -0.030421  0.036773  0.018102 -0.002323   \n",
       "\n",
       "                      WI        WV        WY  Intl_Calls  Night_Mins  \n",
       "Account_Length -0.008476 -0.025631  0.018058    0.020661   -0.008955  \n",
       "Vmail_Message   0.002070  0.008308 -0.017748    0.013957    0.007681  \n",
       "Day_Mins       -0.001832 -0.019383  0.001115    0.008033    0.004323  \n",
       "Eve_Mins       -0.010750 -0.044919  0.014704    0.002541   -0.012584  \n",
       "Intl_Mins      -0.027308 -0.010997  0.008606    0.032304   -0.015207  \n",
       "...                  ...       ...       ...         ...         ...  \n",
       "WI              1.000000 -0.028056 -0.023805   -0.022095   -0.005028  \n",
       "WV             -0.028056  1.000000 -0.027871   -0.004740    0.000658  \n",
       "WY             -0.023805 -0.027871  1.000000    0.030907   -0.005184  \n",
       "Intl_Calls     -0.022095 -0.004740  0.030907    1.000000   -0.012353  \n",
       "Night_Mins     -0.005028  0.000658 -0.005184   -0.012353    1.000000  \n",
       "\n",
       "[70 rows x 70 columns]"
      ]
     },
     "execution_count": 23,
     "metadata": {},
     "output_type": "execute_result"
    }
   ],
   "source": [
    "telco.corr()"
   ]
  },
  {
   "cell_type": "code",
   "execution_count": 24,
   "id": "676ce03a-f58d-419e-9451-34b87ff962fc",
   "metadata": {},
   "outputs": [],
   "source": [
    "## Dropping unnecessary features\n",
    "telco = telco.drop(['Area_Code','Phone'], axis=1)"
   ]
  },
  {
   "cell_type": "code",
   "execution_count": 25,
   "id": "d8fb0ee4-f7fd-4da7-a2e2-5a2874f4b0d5",
   "metadata": {},
   "outputs": [
    {
     "data": {
      "text/plain": [
       "Index(['Account_Length', 'Vmail_Message', 'Day_Mins', 'Eve_Mins', 'Intl_Mins',\n",
       "       'CustServ_Calls', 'Churn', 'Intl_Plan', 'Vmail_Plan', 'Day_Calls',\n",
       "       'Day_Charge', 'Eve_Calls', 'Eve_Charge', 'Night_Calls', 'Night_Charge',\n",
       "       'Intl_Charge', 'AK', 'AL', 'AR', 'AZ', 'CA', 'CO', 'CT', 'DC', 'DE',\n",
       "       'FL', 'GA', 'HI', 'IA', 'ID', 'IL', 'IN', 'KS', 'KY', 'LA', 'MA', 'MD',\n",
       "       'ME', 'MI', 'MN', 'MO', 'MS', 'MT', 'NC', 'ND', 'NE', 'NH', 'NJ', 'NM',\n",
       "       'NV', 'NY', 'OH', 'OK', 'OR', 'PA', 'RI', 'SC', 'SD', 'TN', 'TX', 'UT',\n",
       "       'VA', 'VT', 'WA', 'WI', 'WV', 'WY', 'Intl_Calls', 'Night_Mins'],\n",
       "      dtype='object')"
      ]
     },
     "execution_count": 25,
     "metadata": {},
     "output_type": "execute_result"
    }
   ],
   "source": [
    "## Verify that the telco.columns where dropped\n",
    "telco.columns"
   ]
  },
  {
   "cell_type": "code",
   "execution_count": 26,
   "id": "e77c1d5c-09de-4755-8c45-a622ad78ad08",
   "metadata": {},
   "outputs": [
    {
     "name": "stdout",
     "output_type": "stream",
     "text": [
      "0    0.009525\n",
      "1    0.010277\n",
      "2   -0.007278\n",
      "3   -0.000883\n",
      "4   -0.002284\n",
      "Name: Avg_Night_Calls, dtype: float64\n"
     ]
    }
   ],
   "source": [
    "## Engineering a new column\n",
    "# Create the new feature\n",
    "telco['Avg_Night_Calls'] = telco['Night_Mins'] / telco['Night_Calls']\n",
    "\n",
    "# Print the first five rows of 'Avg_Night_Calls'\n",
    "print(telco['Avg_Night_Calls'].head(5))"
   ]
  },
  {
   "cell_type": "markdown",
   "id": "39565f1c-7a23-4f7e-ba6b-45daa1daf939",
   "metadata": {},
   "source": [
    "## Evaluating Model Performance"
   ]
  },
  {
   "cell_type": "code",
   "execution_count": 27,
   "id": "796cbf7d-b623-43f5-8757-b08f1e9c864d",
   "metadata": {},
   "outputs": [],
   "source": [
    "# Create feature variable\n",
    "X = telco.drop('Churn', axis=1)\n",
    "\n",
    "# Create target variable\n",
    "y = telco['Churn']"
   ]
  },
  {
   "cell_type": "code",
   "execution_count": 28,
   "id": "5d8db0a8-2985-4edb-8668-e8615b808dde",
   "metadata": {},
   "outputs": [],
   "source": [
    "X_train, X_test, y_train, y_test = train_test_split( X, y, test_size=0.3, random_state = 42)"
   ]
  },
  {
   "cell_type": "code",
   "execution_count": 29,
   "id": "d7a04f30-068f-4189-a9cc-1fc1993f051b",
   "metadata": {},
   "outputs": [
    {
     "data": {
      "text/plain": [
       "(2333, 69)"
      ]
     },
     "execution_count": 29,
     "metadata": {},
     "output_type": "execute_result"
    }
   ],
   "source": [
    "X_train.shape"
   ]
  },
  {
   "cell_type": "code",
   "execution_count": 30,
   "id": "e60eaa05-0dcc-4b62-b4d9-6850a06844cc",
   "metadata": {},
   "outputs": [
    {
     "data": {
      "text/plain": [
       "(1000, 69)"
      ]
     },
     "execution_count": 30,
     "metadata": {},
     "output_type": "execute_result"
    }
   ],
   "source": [
    "X_test.shape"
   ]
  },
  {
   "cell_type": "code",
   "execution_count": 31,
   "id": "154a1b63-3b59-4346-8630-2a94095cc809",
   "metadata": {},
   "outputs": [
    {
     "name": "stdout",
     "output_type": "stream",
     "text": [
      "0.939\n"
     ]
    }
   ],
   "source": [
    "# Instantiate the classifier\n",
    "clf = RandomForestClassifier()\n",
    "\n",
    "# Fit to the training data\n",
    "clf.fit(X_train, y_train)\n",
    "\n",
    "# Compute accuracy\n",
    "print(clf.score(X_test, y_test))"
   ]
  },
  {
   "cell_type": "markdown",
   "id": "e5aef68f-d52a-4dc3-95f6-e5e6cdf19f5a",
   "metadata": {},
   "source": [
    "## Model Metrics"
   ]
  },
  {
   "cell_type": "code",
   "execution_count": 32,
   "id": "4920b4a5-025b-480c-bc25-34be14a7148b",
   "metadata": {},
   "outputs": [
    {
     "name": "stdout",
     "output_type": "stream",
     "text": [
      "[[552   2]\n",
      " [ 47  66]]\n"
     ]
    }
   ],
   "source": [
    "# Create feature variable\n",
    "X = telco.drop('Churn', axis=1)\n",
    "\n",
    "# Create target variable\n",
    "y = telco['Churn']\n",
    "\n",
    "# Create training and testing sets\n",
    "X_train, X_test, y_train, y_test = train_test_split(X, y, test_size=0.2)\n",
    "\n",
    "# Instantiate the classifier\n",
    "clf = RandomForestClassifier()\n",
    "\n",
    "# Fit to the training data\n",
    "clf.fit(X_train, y_train)\n",
    "\n",
    "# Predict the labels of the test set\n",
    "y_pred = clf.predict(X_test)\n",
    "\n",
    "# Print confusion matrix\n",
    "print(confusion_matrix(y_test,y_pred))"
   ]
  },
  {
   "cell_type": "code",
   "execution_count": 33,
   "id": "d48f1d81-35b0-42b9-9414-277391f067b1",
   "metadata": {},
   "outputs": [
    {
     "name": "stdout",
     "output_type": "stream",
     "text": [
      "0.9259259259259259\n",
      "0.5102040816326531\n"
     ]
    }
   ],
   "source": [
    "# Create feature variable\n",
    "X = telco.drop('Churn', axis=1)\n",
    "\n",
    "# Create target variable\n",
    "y = telco['Churn']\n",
    "\n",
    "# Create training and testing sets\n",
    "X_train, X_test, y_train, y_test = train_test_split(X, y, test_size=0.1)\n",
    "\n",
    "# Instantiate the classifier\n",
    "clf = RandomForestClassifier()\n",
    "\n",
    "# Fit to the training data\n",
    "clf.fit(X_train, y_train)\n",
    "\n",
    "# Predict the labels of the test set\n",
    "y_pred = clf.predict(X_test)\n",
    "\n",
    "# Print the precision\n",
    "print(precision_score(y_test,y_pred))\n",
    "\n",
    "# Print the recall\n",
    "print(recall_score(y_test, y_pred))"
   ]
  },
  {
   "cell_type": "code",
   "execution_count": 34,
   "id": "fa6ecd8b-a11d-498b-81d7-56e7fba473bf",
   "metadata": {},
   "outputs": [],
   "source": [
    "# ## ROC Curve\n",
    "# logreg = LogisticRegression()\n",
    "\n",
    "# logreg.fit(X_train, y_train)\n",
    "\n",
    "# y_pred_prob = logreg.predict_proba(X_test)[:1]\n",
    "\n",
    "# fpr, tpr, thresholds = roc_curve(y_test, y_pred_prob)\n",
    "\n",
    "# plt.plot(fpr, tpr)\n",
    "# plt.xlabel(\"False Positive Rate\")\n",
    "# plt.ylabel(\"True Positive Rate\")\n",
    "# plt.plot([0,1],[0,1],\"k--\")\n",
    "# plt.show()"
   ]
  },
  {
   "cell_type": "code",
   "execution_count": 35,
   "id": "27c7d538-d576-4f07-af43-86884c372c30",
   "metadata": {},
   "outputs": [],
   "source": [
    "auc = roc_auc_score(y_test,y_pred)"
   ]
  },
  {
   "cell_type": "code",
   "execution_count": 36,
   "id": "adebe147-a0f3-4a22-b438-0c53267ee79f",
   "metadata": {},
   "outputs": [],
   "source": [
    "# Generate the probabilities\n",
    "y_pred_prob = clf.predict_proba(X_test)[:, 1]"
   ]
  },
  {
   "cell_type": "code",
   "execution_count": 37,
   "id": "9af73fe4-a67a-4a42-a5f9-df026b25930e",
   "metadata": {},
   "outputs": [
    {
     "data": {
      "image/png": "[encoded data removed]",
      "text/plain": [
       "<Figure size 432x288 with 1 Axes>"
      ]
     },
     "metadata": {
      "needs_background": "light"
     },
     "output_type": "display_data"
    }
   ],
   "source": [
    "# Generate the probabilities\n",
    "y_pred_prob = clf.predict_proba(X_test)[:, 1]\n",
    "\n",
    "# Calculate the roc metrics\n",
    "fpr, tpr, thresholds = roc_curve(y_test, y_pred_prob)\n",
    "\n",
    "# Plot the ROC curve\n",
    "plt.plot(fpr, tpr)\n",
    "\n",
    "# Add labels and diagonal line\n",
    "plt.xlabel(\"False Positive Rate\")\n",
    "plt.ylabel(\"True Positive Rate\")\n",
    "plt.plot([0, 1], [0, 1], \"k--\")\n",
    "plt.show()"
   ]
  },
  {
   "cell_type": "code",
   "execution_count": 38,
   "id": "e33be53c-70f2-4aaa-a02f-3c078f41393f",
   "metadata": {},
   "outputs": [
    {
     "name": "stdout",
     "output_type": "stream",
     "text": [
      "0.6578947368421053\n"
     ]
    }
   ],
   "source": [
    "print(f1_score(y_test,y_pred))"
   ]
  },
  {
   "cell_type": "code",
   "execution_count": 39,
   "id": "60674ad3-6be2-4f15-a989-30573d564c6e",
   "metadata": {},
   "outputs": [
    {
     "name": "stdout",
     "output_type": "stream",
     "text": [
      "0.6842105263157895\n"
     ]
    }
   ],
   "source": [
    "# Instantiate the classifier\n",
    "clf = RandomForestClassifier()\n",
    "\n",
    "# Fit to the training data\n",
    "clf.fit(X_train, y_train)\n",
    "\n",
    "# Predict the labels of the test set\n",
    "y_pred = clf.predict(X_test)\n",
    "\n",
    "# Print the F1 score\n",
    "print(f1_score(y_test,y_pred))"
   ]
  },
  {
   "cell_type": "markdown",
   "id": "93008e7d-6c14-41cd-abd3-7045494f632e",
   "metadata": {},
   "source": [
    "## Tuning your model"
   ]
  },
  {
   "cell_type": "code",
   "execution_count": 40,
   "id": "d43a09a5-9228-4ade-b72b-f91d777a2a73",
   "metadata": {},
   "outputs": [
    {
     "data": {
      "text/plain": [
       "0.9447938193065628"
      ]
     },
     "execution_count": 40,
     "metadata": {},
     "output_type": "execute_result"
    }
   ],
   "source": [
    "param_grid = {'n_estimators':np.arange(10,51)}\n",
    "clf_cv = GridSearchCV(RandomForestClassifier(),param_grid)\n",
    "clf_cv.fit(X,y)\n",
    "clf_cv.best_params_\n",
    "clf_cv.best_score_"
   ]
  },
  {
   "cell_type": "code",
   "execution_count": 41,
   "id": "022b82ad-c704-4ca7-a354-d93834e08a1e",
   "metadata": {},
   "outputs": [
    {
     "name": "stdout",
     "output_type": "stream",
     "text": [
      "{'max_features': 'sqrt'}\n"
     ]
    }
   ],
   "source": [
    "# Create the hyperparameter grid\n",
    "param_grid = {'max_features': ['auto', 'sqrt', 'log2']}\n",
    "\n",
    "# Call GridSearchCV\n",
    "grid_search = GridSearchCV(clf, param_grid)\n",
    "\n",
    "# Fit the model\n",
    "grid_search.fit(X, y)\n",
    "\n",
    "# Print the optimal parameters\n",
    "print(grid_search.best_params_)"
   ]
  },
  {
   "cell_type": "code",
   "execution_count": 42,
   "id": "d7bc2437-a5fe-4019-9c9f-06458bd8d007",
   "metadata": {},
   "outputs": [],
   "source": [
    "# # Create the hyperparameter grid\n",
    "# param_dist = {\"max_depth\": [3, None],\n",
    "#               \"max_features\": randint(1, 1),\n",
    "#               \"bootstrap\": [True, False],\n",
    "#               \"criterion\": [\"gini\", \"entropy\"]}\n",
    "\n",
    "# # Call RandomizedSearchCV\n",
    "# random_search = RandomizedSearchCV(clf, param_dist)\n",
    "\n",
    "# # Fit the model\n",
    "# random_search.fit(X, y)\n",
    "\n",
    "# # Print best parameters\n",
    "# print(random_search.best_params_)"
   ]
  },
  {
   "cell_type": "code",
   "execution_count": 43,
   "id": "4cc0de34-ac27-44d0-bc0d-e7b2af9a87b4",
   "metadata": {},
   "outputs": [
    {
     "data": {
      "text/plain": [
       "array([0.03283553, 0.02473145, 0.13248305, 0.05719361, 0.03957741,\n",
       "       0.09953161, 0.0679613 , 0.01888733, 0.03152399, 0.11877944,\n",
       "       0.02875611, 0.05293977, 0.03166743, 0.03286021, 0.03851489,\n",
       "       0.0006871 , 0.00081767, 0.0010362 , 0.00131695, 0.00264004,\n",
       "       0.00184622, 0.00240517, 0.0018257 , 0.00095562, 0.00148955,\n",
       "       0.00146608, 0.00056139, 0.00076369, 0.00212827, 0.00172788,\n",
       "       0.0018418 , 0.00187123, 0.00085816, 0.0018425 , 0.00167663,\n",
       "       0.0029146 , 0.00223854, 0.00216642, 0.00144802, 0.00064872,\n",
       "       0.00282734, 0.00217987, 0.00173737, 0.00169925, 0.00101959,\n",
       "       0.001346  , 0.0021611 , 0.00152743, 0.0021034 , 0.0017522 ,\n",
       "       0.0017618 , 0.00051526, 0.00204345, 0.00208907, 0.00129592,\n",
       "       0.00308771, 0.00175206, 0.00076757, 0.00344347, 0.00212495,\n",
       "       0.00132981, 0.00137823, 0.00212241, 0.001561  , 0.0011175 ,\n",
       "       0.00136359, 0.03857089, 0.03344504, 0.03445946])"
      ]
     },
     "execution_count": 43,
     "metadata": {},
     "output_type": "execute_result"
    }
   ],
   "source": [
    "## Feature importances\n",
    "random_forest = RandomForestClassifier()\n",
    "random_forest.fit(X_train, y_train)\n",
    "random_forest.feature_importances_"
   ]
  },
  {
   "cell_type": "code",
   "execution_count": 44,
   "id": "8ff2397d-7b2c-4d1f-910e-7aa69ec0ab56",
   "metadata": {},
   "outputs": [
    {
     "data": {
      "image/png": "[encoded data removed]",
      "text/plain": [
       "<Figure size 432x288 with 1 Axes>"
      ]
     },
     "metadata": {
      "needs_background": "light"
     },
     "output_type": "display_data"
    }
   ],
   "source": [
    "# Calculate feature importances\n",
    "importances = clf.feature_importances_\n",
    "# Sort importances\n",
    "sorted_index = np.argsort(importances)\n",
    "# Create labels\n",
    "labels = X.columns[sorted_index]\n",
    "# Clear current plot\n",
    "plt.clf()\n",
    "# Create plot\n",
    "plt.barh(range(X.shape[1]), importances[sorted_index], tick_label=labels)\n",
    "plt.show()"
   ]
  },
  {
   "cell_type": "code",
   "execution_count": 45,
   "id": "272692fd-397d-40c1-8ca8-35f9d508b438",
   "metadata": {},
   "outputs": [
    {
     "name": "stdout",
     "output_type": "stream",
     "text": [
      "0.923\n"
     ]
    }
   ],
   "source": [
    "# Create training and testing sets\n",
    "X_train, X_test, y_train, y_test = train_test_split(X, y, test_size=0.3)\n",
    "\n",
    "# Instantiate the classifier\n",
    "clf = RandomForestClassifier()\n",
    "\n",
    "# Fit to the data\n",
    "clf.fit(X_train, y_train)\n",
    "\n",
    "# Print the accuracy\n",
    "print(clf.score(X_test, y_test))"
   ]
  },
  {
   "cell_type": "code",
   "execution_count": 46,
   "id": "0e8ea96f-8a49-4eba-94c6-43c21b35daff",
   "metadata": {},
   "outputs": [
    {
     "name": "stdout",
     "output_type": "stream",
     "text": [
      "0.7038626609442059\n"
     ]
    }
   ],
   "source": [
    "# Instantiate the classifier\n",
    "clf = RandomForestClassifier()\n",
    "\n",
    "# Fit to the data\n",
    "clf.fit(X_train, y_train)\n",
    "\n",
    "# Predict the labels of the test set\n",
    "y_pred = clf.predict(X_test)\n",
    "\n",
    "# Print the F1 score\n",
    "print(f1_score(y_test,y_pred))"
   ]
  }
 ],
 "metadata": {
  "kernelspec": {
   "display_name": "Python 3 (ipykernel)",
   "language": "python",
   "name": "python3"
  },
  "language_info": {
   "codemirror_mode": {
    "name": "ipython",
    "version": 3
   },
   "file_extension": ".py",
   "mimetype": "text/x-python",
   "name": "python",
   "nbconvert_exporter": "python",
   "pygments_lexer": "ipython3",
   "version": "3.9.7"
  }
 },
 "nbformat": 4,
 "nbformat_minor": 5
}
